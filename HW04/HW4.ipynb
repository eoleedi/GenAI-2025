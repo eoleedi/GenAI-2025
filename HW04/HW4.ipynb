{
  "nbformat": 4,
  "nbformat_minor": 0,
  "metadata": {
    "colab": {
      "provenance": [],
      "authorship_tag": "ABX9TyMdLAdQ7nXhoepG18IodaXZ",
      "include_colab_link": true
    },
    "kernelspec": {
      "name": "python3",
      "display_name": "Python 3"
    },
    "language_info": {
      "name": "python"
    }
  },
  "cells": [
    {
      "cell_type": "markdown",
      "metadata": {
        "id": "view-in-github",
        "colab_type": "text"
      },
      "source": [
        "<a href=\"https://colab.research.google.com/github/eoleedi/GenAI-2025/blob/main/HW4/HW4.ipynb\" target=\"_parent\"><img src=\"https://colab.research.google.com/assets/colab-badge.svg\" alt=\"Open In Colab\"/></a>"
      ]
    },
    {
      "cell_type": "markdown",
      "source": [
        "# 語言學習 LLM Benchmark\n",
        "\n",
        "## 主題與測試目標\n",
        "\n",
        "測試 LLM 在 語言學習輔助 (Language Learning Assistance) 上的能力，包括：\n",
        "*\t語言分析與解釋（Grammar, Phonetics, Semantics）\n",
        "*\t自動化學習建議（Personalized Learning）\n",
        "\n",
        "## 測試問題\n",
        "\n",
        "(A) **文法與語言結構 (Grammar & Syntax)**\\\n",
        "\t1.\t“Compare the use of definite and indefinite articles in English and Swedish. Give examples.”\n",
        "\t•\t目標：測試 LLM 是否能正確對比兩種語言的文法規則。 \\\n",
        "\t2.\t“Correct the grammatical errors in this sentence: ‘She go to the store yesterday and buy apples.’”\n",
        "\t•\t目標：測試 LLM 的文法糾錯能力。\n",
        "\n",
        "(B) **語言學習策略與個人化學習 (Personalized Learning Strategies)**\\\n",
        "\t1.\t“Design a 1-month English learning plan for an intermediate Chinese learner focusing on speaking and listening.”\n",
        "\t•\t目標：測試 LLM 是否能根據學習者的程度提供個性化學習計劃。"
      ],
      "metadata": {
        "id": "0siY-gbNzJSC"
      }
    },
    {
      "cell_type": "markdown",
      "source": [
        "# 1. Compare the use of definite and indefinite articles in English and Swedish. Give examples"
      ],
      "metadata": {
        "id": "KC8ud8lB05VU"
      }
    },
    {
      "cell_type": "markdown",
      "source": [
        "## ChatGPT"
      ],
      "metadata": {
        "id": "wAF6mRBC1Pi8"
      }
    },
    {
      "cell_type": "markdown",
      "source": [
        "English and Swedish both use definite and indefinite articles, but they differ in their structure and usage. Here’s a comparison:  \n",
        "\n",
        "### **1. Indefinite Articles (\"a/an\" vs. \"en/ett\")**  \n",
        "**English:**  \n",
        "- Uses **\"a\"** before words starting with a consonant sound (e.g., *a car*).  \n",
        "- Uses **\"an\"** before words starting with a vowel sound (e.g., *an apple*).  \n",
        "\n",
        "**Swedish:**  \n",
        "- Uses **\"en\"** for common-gender nouns (*en bok* = \"a book\").  \n",
        "- Uses **\"ett\"** for neuter nouns (*ett hus* = \"a house\").  \n",
        "\n",
        "**Key Differences:**  \n",
        "- In English, the article choice depends on pronunciation (vowel/consonant sound), while in Swedish, it depends on the grammatical gender of the noun.  \n",
        "\n",
        "### **2. Definite Articles (\"the\" vs. \"-en/-et\" and \"den/det/de\")**  \n",
        "**English:**  \n",
        "- Uses **\"the\"** before both singular and plural nouns (*the book*, *the books*).  \n",
        "\n",
        "**Swedish:**  \n",
        "- The definite article is **attached to the end of the noun**:  \n",
        "  - *bok* (\"book\") → *boken* (\"the book\")  \n",
        "  - *hus* (\"house\") → *huset* (\"the house\")  \n",
        "- For plural definite nouns, the suffix changes:  \n",
        "  - *böcker* (\"books\") → *böckerna* (\"the books\")  \n",
        "  - *hus* (\"houses\") → *husen* (\"the houses\")  \n",
        "- When the noun is modified by an adjective, a **separate** definite article is used:  \n",
        "  - *den stora boken* (\"the big book\")  \n",
        "  - *det lilla huset* (\"the small house\")  \n",
        "  - *de stora böckerna* (\"the big books\")  \n",
        "\n",
        "**Key Differences:**  \n",
        "- English uses a separate word (\"the\") before the noun.  \n",
        "- Swedish mostly **attaches** the definite article to the noun.  \n",
        "- In Swedish, adjectives before definite nouns require **den/det/de** in addition to the suffix.  \n",
        "\n",
        "Would you like more details on specific cases, such as usage in abstract concepts or spoken vs. written differences? 😊"
      ],
      "metadata": {
        "id": "v04Gu0OVztg5"
      }
    },
    {
      "cell_type": "markdown",
      "source": [
        "## Gemini"
      ],
      "metadata": {
        "id": "ZeOmkklB1Shu"
      }
    },
    {
      "cell_type": "markdown",
      "source": [
        "When comparing definite and indefinite articles in English and Swedish, key differences emerge, particularly in how the definite article is formed. Here's a breakdown:\n",
        "\n",
        "**English:**\n",
        "\n",
        "* **Indefinite Articles:**\n",
        "    * \"a\" and \"an\" are used to refer to nonspecific or general nouns.\n",
        "    * Example: \"a book,\" \"an apple.\"\n",
        "* **Definite Article:**\n",
        "    * \"the\" is used to refer to specific nouns.\n",
        "    * Example: \"the book,\" \"the apple.\"\n",
        "\n",
        "**Swedish:**\n",
        "\n",
        "* **Indefinite Articles:**\n",
        "    * \"en\" and \"ett\" are used to refer to nonspecific or general nouns. The choice between \"en\" and \"ett\" depends on the noun's gender (common or neuter).\n",
        "    * Example: \"en bil\" (a car), \"ett hus\" (a house).\n",
        "* **Definite Article:**\n",
        "    * Unlike English, Swedish often expresses the definite article by adding a suffix to the noun.\n",
        "    * Example:\n",
        "        * \"bilen\" (the car) from \"en bil.\"\n",
        "        * \"huset\" (the house) from \"ett hus\".\n",
        "    * Swedish also uses \"den,\" \"det,\" and \"de\" in some contexts, but the suffixed form is very common.\n",
        "    * For plural nouns Swedish uses \"na\". Example, \"böckerna\" (the books) from \"böcker\" (books)\n",
        "\n",
        "**Key Differences:**\n",
        "\n",
        "* **Formation of the Definite Article:**\n",
        "    * English uses a separate word (\"the\").\n",
        "    * Swedish primarily uses suffixes attached to the noun.\n",
        "* **Gender:**\n",
        "    * English indefinite articles change based on the following word's sound (\"a\" vs. \"an\").\n",
        "    * Swedish indefinite articles change based on the grammatical gender of the Noun (\"en\" vs \"ett\").\n",
        "* **Plural definite articles:**\n",
        "    * English uses \"the\" for singular and plural.\n",
        "    * Swedish uses a seperate suffix for plural definite nouns.\n",
        "\n",
        "In essence, while both languages utilize definite and indefinite articles, their methods of implementation diverge, most notably in the formation of the definite article.\n"
      ],
      "metadata": {
        "id": "sNNOz9HW1wNT"
      }
    },
    {
      "cell_type": "markdown",
      "source": [
        "# 2. Correct the grammatical errors in this sentence: ‘She go to the store yesterday and buy apples"
      ],
      "metadata": {
        "id": "LSUzRRFe1y3K"
      }
    },
    {
      "cell_type": "markdown",
      "source": [
        "## ChatGPT"
      ],
      "metadata": {
        "id": "bFsb9Hpw25BB"
      }
    },
    {
      "cell_type": "markdown",
      "source": [
        "The corrected sentence is: \"She went to the store yesterday and bought apples.\""
      ],
      "metadata": {
        "id": "yC4OSc7Q26uU"
      }
    },
    {
      "cell_type": "markdown",
      "source": [
        "## Gemini"
      ],
      "metadata": {
        "id": "hHhTeBZR28IN"
      }
    },
    {
      "cell_type": "markdown",
      "source": [
        "Here are a few ways to correct the sentence, depending on the intended tense and aspect:\n",
        "\n",
        "* **Simple Past:** \"She went to the store yesterday and bought apples.\"\n",
        "* **Past Progressive (less likely, but possible if emphasizing the action):** \"She was going to the store yesterday and buying apples.\""
      ],
      "metadata": {
        "id": "yhvYVQTv2-eK"
      }
    },
    {
      "cell_type": "markdown",
      "source": [
        "# 3. Design a 1-month English learning plan for an intermediate Chinese learner focusing on speaking and listening."
      ],
      "metadata": {
        "id": "h6eoEl293I9u"
      }
    },
    {
      "cell_type": "markdown",
      "source": [
        "## ChatGPT"
      ],
      "metadata": {
        "id": "Yz1WDDYg3K_p"
      }
    },
    {
      "cell_type": "markdown",
      "source": [
        "Here's a 1-month English learning plan for an intermediate Chinese learner, focusing on speaking and listening skills:\n",
        "\n",
        "### **Week 1: Building Listening Comprehension and Speaking Confidence**\n",
        "\n",
        "**Goal:** Enhance listening skills with varied materials and start speaking confidently.\n",
        "\n",
        "- **Day 1-2: Listening Practice**\n",
        "  - Listen to podcasts, YouTube videos, or audiobooks (choose topics of interest or related to your profession).\n",
        "  - Focus on short segments (5-10 minutes) and write down key phrases or words.\n",
        "  - Listen twice: first for general meaning, then for specific details.\n",
        "\n",
        "- **Day 3-4: Shadowing Practice**\n",
        "  - Choose a short video or audio clip with clear speech.\n",
        "  - Pause every few sentences and repeat what you hear to improve pronunciation and intonation.\n",
        "  - Focus on mimicking the rhythm, stress, and pauses.\n",
        "\n",
        "- **Day 5-7: Conversation Practice**\n",
        "  - Have daily speaking practice with a language partner, tutor, or through language exchange apps (e.g., HelloTalk, Tandem).\n",
        "  - Focus on simple, everyday topics like introducing yourself, your hobbies, or your daily routine.\n",
        "\n",
        "### **Week 2: Developing Active Listening and Speaking Fluency**\n",
        "\n",
        "**Goal:** Improve active listening skills and expand speaking fluency.\n",
        "\n",
        "- **Day 8-10: Listening to Native Speakers**\n",
        "  - Watch TV shows, movies, or news in English with subtitles (initially in your native language, then in English).\n",
        "  - Take notes on new vocabulary and expressions.\n",
        "  - Try to summarize what you've heard, and discuss it with a partner or record your thoughts in English.\n",
        "\n",
        "- **Day 11-12: Role-Playing and Interactive Speaking**\n",
        "  - Engage in role-playing exercises (e.g., ordering food, making phone calls, or giving directions).\n",
        "  - Try improvisation exercises where you respond quickly to questions or prompts.\n",
        "\n",
        "- **Day 13-14: Speaking Practice with Feedback**\n",
        "  - Record yourself speaking on various topics for 3-5 minutes.\n",
        "  - Listen to the recording, identify mistakes, and focus on improving pronunciation, word stress, and sentence structure.\n",
        "\n",
        "### **Week 3: Expanding Vocabulary and Improving Pronunciation**\n",
        "\n",
        "**Goal:** Expand vocabulary, improve pronunciation, and enhance listening comprehension.\n",
        "\n",
        "- **Day 15-17: Thematic Vocabulary Learning**\n",
        "  - Learn vocabulary related to common topics like work, travel, health, and current events.\n",
        "  - Use flashcards (e.g., Anki) to reinforce new words and phrases.\n",
        "  - Practice using new words in sentences and conversations.\n",
        "\n",
        "- **Day 18-19: Pronunciation Focus**\n",
        "  - Work on specific pronunciation challenges (e.g., common Chinese-to-English issues like /r/ vs. /l/, or intonation patterns).\n",
        "  - Use resources like Forvo or YouTube pronunciation guides to compare your speech with native speakers.\n",
        "\n",
        "- **Day 20-21: Listening Practice with a Focus on Accent**\n",
        "  - Listen to content from different English-speaking regions (American, British, Australian).\n",
        "  - Try to identify accent variations, word stress, and intonation patterns.\n",
        "  - Repeat after the speakers to mimic their accent and style.\n",
        "\n",
        "### **Week 4: Real-World Practice and Review**\n",
        "\n",
        "**Goal:** Use your skills in real-world contexts and evaluate progress.\n",
        "\n",
        "- **Day 22-24: Practical Conversations**\n",
        "  - Engage in more complex conversations, discussing current events, books, or professional topics.\n",
        "  - Try speaking for longer periods without pausing to find the right words. This builds fluency.\n",
        "  \n",
        "- **Day 25-27: Listening to Complex Content**\n",
        "  - Listen to interviews, lectures, or TED Talks on topics that interest you.\n",
        "  - Take notes on specific points or try to summarize the key ideas.\n",
        "  \n",
        "- **Day 28-30: Self-Evaluation and Review**\n",
        "  - Record a 5-10 minute monologue on any topic.\n",
        "  - Listen to the recording and compare it with your first-week recordings.\n",
        "  - Identify areas where you’ve improved and where you still need to work.\n",
        "\n",
        "### **Daily Practices:**\n",
        "- **Listening (30 minutes to 1 hour):** A mix of podcasts, YouTube videos, audiobooks, or music with lyrics.\n",
        "- **Speaking (30 minutes to 1 hour):** Language exchanges, practicing shadowing, role-playing, or recording yourself.\n",
        "- **Vocabulary (15-20 minutes):** Flashcards, learning 5-10 new words/phrases a day.\n",
        "\n",
        "### **End of Month Evaluation:**\n",
        "- Test your listening comprehension by watching a short video without subtitles and summarizing it.\n",
        "- Engage in a conversation for 15-20 minutes with a language partner or tutor, focusing on fluency and vocabulary.\n",
        "\n",
        "This plan gradually builds skills, moving from foundational listening and speaking exercises to real-world application, and includes daily practice to reinforce new concepts."
      ],
      "metadata": {
        "id": "5ZPLm94h3_Fv"
      }
    },
    {
      "cell_type": "markdown",
      "source": [
        "## Gemini"
      ],
      "metadata": {
        "id": "yKMx4IYk3MWs"
      }
    },
    {
      "cell_type": "markdown",
      "source": [
        "Absolutely! Here's a 1-month English learning plan tailored for an intermediate Chinese learner focusing on speaking and listening, broken down into weekly themes and specific activities.\n",
        "\n",
        "**Overall Goals:**\n",
        "\n",
        "* Improve fluency and confidence in spoken English.\n",
        "* Enhance listening comprehension in various contexts.\n",
        "* Expand vocabulary related to everyday situations.\n",
        "* Reduce reliance on direct translation from Chinese.\n",
        "\n",
        "**Plan Structure:**\n",
        "\n",
        "* Each week has a theme.\n",
        "* Daily activities include a mix of listening, speaking, and vocabulary practice.\n",
        "* Regular review is incorporated.\n",
        "\n",
        "**Week 1: Everyday Conversations & Introductions**\n",
        "\n",
        "* **Theme:** Basic social interactions and self-introduction.\n",
        "* **Goals:**\n",
        "    * Practice common greetings and phrases.\n",
        "    * Learn to introduce oneself and others.\n",
        "    * Understand and respond to simple questions.\n",
        "* **Daily Activities:**\n",
        "    * **Listening:**\n",
        "        * Listen to podcasts or YouTube videos about daily conversations (e.g., \"English Speaking Practice,\" \"Everyday English\").\n",
        "        * Watch short clips from sitcoms with subtitles, focusing on casual dialogue.\n",
        "    * **Speaking:**\n",
        "        * Practice introducing yourself and talking about your hobbies.\n",
        "        * Engage in role-playing scenarios (e.g., meeting someone new, ordering coffee).\n",
        "        * Record yourself speaking and listen back for pronunciation and fluency.\n",
        "    * **Vocabulary:**\n",
        "        * Learn common greetings, phrases for introductions, and basic question words (who, what, where, when, why, how).\n",
        "        * Use flashcards or vocabulary apps to memorize new words.\n",
        "* **Resources:**\n",
        "    * \"EnglishClass101\" podcasts/youtube videos.\n",
        "    * BBC Learning English.\n",
        "    * \"Rachel's English\" (pronunciation)\n",
        "\n",
        "**Week 2: Food & Travel**\n",
        "\n",
        "* **Theme:** Ordering food, asking for directions, and travel-related vocabulary.\n",
        "* **Goals:**\n",
        "    * Learn to navigate restaurant and travel situations.\n",
        "    * Improve listening comprehension of spoken directions and descriptions.\n",
        "    * Expand vocabulary related to food and travel.\n",
        "* **Daily Activities:**\n",
        "    * **Listening:**\n",
        "        * Listen to travel podcasts or audio guides.\n",
        "        * Watch restaurant reviews or travel vlogs in English.\n",
        "        * Listen to audio describing how to get to places.\n",
        "    * **Speaking:**\n",
        "        * Practice ordering food in English (role-playing).\n",
        "        * Describe your favorite food or travel experiences.\n",
        "        * Practice asking for and giving directions.\n",
        "    * **Vocabulary:**\n",
        "        * Learn vocabulary related to food, restaurants, travel, and transportation.\n",
        "        * Create flashcards with pictures to aid memorization.\n",
        "* **Resources:**\n",
        "    * \"Go Natural English\" youtube channel.\n",
        "    * Travel podcasts (e.g., \"Amateur Traveler\").\n",
        "    * Online restaurant menus in English.\n",
        "\n",
        "**Week 3: Work & Study**\n",
        "\n",
        "* **Theme:** Describing your job/studies, participating in meetings/classes, and discussing professional topics.\n",
        "* **Goals:**\n",
        "    * Learn to discuss your work or studies in detail.\n",
        "    * Improve listening comprehension of professional conversations.\n",
        "    * Expand vocabulary related to your field of interest.\n",
        "* **Daily Activities:**\n",
        "    * **Listening:**\n",
        "        * Listen to lectures or presentations in English related to your field.\n",
        "        * Watch interviews or panel discussions with professionals.\n",
        "        * Listen to business english podcasts.\n",
        "    * **Speaking:**\n",
        "        * Practice describing your job or studies.\n",
        "        * Participate in online language exchange groups focusing on professional topics.\n",
        "        * Give short presentations on topics related to your work or studies.\n",
        "    * **Vocabulary:**\n",
        "        * Learn industry-specific vocabulary.\n",
        "        * Create a glossary of terms related to your field.\n",
        "        * Practice using these words in sentences.\n",
        "* **Resources:**\n",
        "    * TED Talks.\n",
        "    * LinkedIn Learning (English courses).\n",
        "    * Business English podcasts (e.g., \"English for Professionals\").\n",
        "\n",
        "**Week 4: Current Events & Discussions**\n",
        "\n",
        "* **Theme:** Discussing current events, expressing opinions, and engaging in debates.\n",
        "* **Goals:**\n",
        "    * Improve listening comprehension of news and discussions.\n",
        "    * Learn to express opinions and participate in debates.\n",
        "    * Expand vocabulary related to current events and social issues.\n",
        "* **Daily Activities:**\n",
        "    * **Listening:**\n",
        "        * Listen to English news broadcasts (e.g., BBC News, CNN).\n",
        "        * Listen to podcasts or radio shows discussing current events.\n",
        "        * Listen to debates on topics that interest you.\n",
        "    * **Speaking:**\n",
        "        * Practice expressing your opinions on current events.\n",
        "        * Participate in online discussions or debates in English.\n",
        "        * Summarize news articles or podcasts in your own words.\n",
        "    * **Vocabulary:**\n",
        "        * Learn vocabulary related to current events, politics, and social issues.\n",
        "        * Read English news articles and highlight unfamiliar words.\n",
        "        * Practice using these words in your spoken and written english.\n",
        "* **Resources:**\n",
        "    * BBC News, CNN, NPR.\n",
        "    * \"The Economist\" podcasts.\n",
        "    * Online forums and discussion groups.\n",
        "\n",
        "**Key Strategies:**\n",
        "\n",
        "* **Immersion:** Surround yourself with English as much as possible.\n",
        "* **Active Listening:** Don't just listen passively; try to understand the main ideas and details.\n",
        "* **Consistent Practice:** Dedicate time each day to English learning.\n",
        "* **Language Exchange:** Find a native English speaker for conversation practice.\n",
        "* **Shadowing:** Repeat what you hear in English audio or video to improve pronunciation and fluency.\n",
        "* **Record Yourself:** Regularly record your speaking to track your progress.\n",
        "* **Don't Fear Mistakes:** Mistakes are a natural part of learning. Focus on communicating effectively.\n",
        "\n",
        "**Important Note for Chinese Learners:**\n",
        "\n",
        "* Be aware of common pronunciation differences between Chinese and English (e.g., vowel sounds, consonant clusters).\n",
        "* Practice thinking in English rather than translating from Chinese.\n",
        "* Be patient with yourself, and celebrate every small victory.\n"
      ],
      "metadata": {
        "id": "IIyYW4s44Avd"
      }
    },
    {
      "cell_type": "markdown",
      "source": [
        "# Conclusion"
      ],
      "metadata": {
        "id": "Mdn3YIj_6oGH"
      }
    },
    {
      "cell_type": "markdown",
      "source": [
        "Although both models all respond correctly without error,  Gemini provide a more detailed response, whereas ChatGPT respond more directly.\n",
        "\n",
        "\n",
        "Iin the context of Language Learning Assistance, I prefer Gemini's respond."
      ],
      "metadata": {
        "id": "RGgaUYkr6A7q"
      }
    },
    {
      "cell_type": "code",
      "source": [],
      "metadata": {
        "id": "vVXeDLSU6Of5"
      },
      "execution_count": null,
      "outputs": []
    }
  ]
}